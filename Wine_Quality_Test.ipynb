{
  "nbformat": 4,
  "nbformat_minor": 0,
  "metadata": {
    "colab": {
      "provenance": []
    },
    "kernelspec": {
      "name": "python3",
      "display_name": "Python 3"
    }
  },
  "cells": [
    {
      "cell_type": "code",
      "metadata": {
        "id": "8k7heYxC5-HX"
      },
      "source": [
        "!mkdir .kaggle\n",
        "!mkdir ~/.kaggle"
      ],
      "execution_count": null,
      "outputs": []
    },
    {
      "cell_type": "code",
      "metadata": {
        "id": "owT6P1qwtmpx",
        "colab": {
          "base_uri": "https://localhost:8080/",
          "height": 50
        },
        "outputId": "2f0af367-1307-44d8-ffa4-b425d40a0889"
      },
      "source": [
        "import os\n",
        "import json\n",
        "\n",
        "\n",
        "token = {\"username\":\"bdonluong\",\"key\":\"2be056ae0f5d8fb59ca80f56310a5d69\"}\n",
        "with open('/content/.kaggle/kaggle.json', 'w') as file:\n",
        "    json.dump(token, file)\n",
        "\n",
        "!cp /content/.kaggle/kaggle.json ~/.kaggle/kaggle.json\n",
        "!kaggle config set -n path -v{/content}\n",
        "!chmod 600 /root/.kaggle/kaggle.json\n",
        "\n"
      ],
      "execution_count": null,
      "outputs": [
        {
          "output_type": "stream",
          "text": [
            "Warning: Your Kaggle API key is readable by other users on this system! To fix this, you can run 'chmod 600 /root/.kaggle/kaggle.json'\n",
            "- path is now set to: {/content}\n"
          ],
          "name": "stdout"
        }
      ]
    },
    {
      "cell_type": "code",
      "metadata": {
        "id": "uZSWZ7Zu81Km",
        "colab": {
          "base_uri": "https://localhost:8080/",
          "height": 84
        },
        "outputId": "58688864-5de3-462c-ecde-c39b8481f594"
      },
      "source": [
        "!kaggle datasets download -d uciml/red-wine-quality-cortez-et-al-2009 -p /content/datasets/kaggle-wine\n",
        "%cd datasets/kaggle-wine/"
      ],
      "execution_count": null,
      "outputs": [
        {
          "output_type": "stream",
          "text": [
            "Downloading red-wine-quality-cortez-et-al-2009.zip to /content/datasets/kaggle-wine\n",
            "\r  0% 0.00/25.5k [00:00<?, ?B/s]\n",
            "\r100% 25.5k/25.5k [00:00<00:00, 9.37MB/s]\n",
            "/content/datasets/kaggle-wine\n"
          ],
          "name": "stdout"
        }
      ]
    },
    {
      "cell_type": "code",
      "metadata": {
        "id": "4b2KKIVV_UNG",
        "colab": {
          "base_uri": "https://localhost:8080/",
          "height": 50
        },
        "outputId": "dbcc1b88-0ed6-4534-a131-a6790dd3442c"
      },
      "source": [
        "!unzip \\*zip"
      ],
      "execution_count": null,
      "outputs": [
        {
          "output_type": "stream",
          "text": [
            "Archive:  red-wine-quality-cortez-et-al-2009.zip\n",
            "  inflating: winequality-red.csv     \n"
          ],
          "name": "stdout"
        }
      ]
    },
    {
      "cell_type": "code",
      "metadata": {
        "id": "Q8Iv3Wvq5sxT",
        "colab": {
          "base_uri": "https://localhost:8080/",
          "height": 34
        },
        "outputId": "d2a102e2-1756-43e1-b428-faf1f8ad82c8"
      },
      "source": [
        "dsroot = os.getcwd()\n",
        "os.listdir(dsroot)"
      ],
      "execution_count": null,
      "outputs": [
        {
          "output_type": "execute_result",
          "data": {
            "text/plain": [
              "['red-wine-quality-cortez-et-al-2009.zip', 'winequality-red.csv']"
            ]
          },
          "metadata": {
            "tags": []
          },
          "execution_count": 5
        }
      ]
    },
    {
      "cell_type": "code",
      "metadata": {
        "id": "GzMX2TN6A5O1"
      },
      "source": [
        "import pandas as pd\n",
        "import numpy as np\n",
        "\n",
        "pd.set_option('display.expand_frame_repr', False)\n",
        "\n",
        "df = pd.read_csv(os.path.join(dsroot, \"winequality-red.csv\"))\n"
      ],
      "execution_count": null,
      "outputs": []
    },
    {
      "cell_type": "markdown",
      "metadata": {
        "id": "cH58BAzQDSsw"
      },
      "source": [
        "Print the dataframe. Describe the dataset"
      ]
    },
    {
      "cell_type": "code",
      "metadata": {
        "id": "v1R2dRPiq0qE",
        "colab": {
          "base_uri": "https://localhost:8080/",
          "height": 1413
        },
        "outputId": "4a54d393-a49a-4fd0-e1fb-3818d7f4f18e"
      },
      "source": [
        "print(df)\n",
        "df.describe()"
      ],
      "execution_count": null,
      "outputs": [
        {
          "output_type": "stream",
          "text": [
            "      fixed acidity  volatile acidity  citric acid  residual sugar  chlorides  free sulfur dioxide  total sulfur dioxide  density    pH  sulphates  alcohol  quality\n",
            "0               7.4             0.700         0.00             1.9      0.076                 11.0                  34.0  0.99780  3.51       0.56      9.4        5\n",
            "1               7.8             0.880         0.00             2.6      0.098                 25.0                  67.0  0.99680  3.20       0.68      9.8        5\n",
            "2               7.8             0.760         0.04             2.3      0.092                 15.0                  54.0  0.99700  3.26       0.65      9.8        5\n",
            "3              11.2             0.280         0.56             1.9      0.075                 17.0                  60.0  0.99800  3.16       0.58      9.8        6\n",
            "4               7.4             0.700         0.00             1.9      0.076                 11.0                  34.0  0.99780  3.51       0.56      9.4        5\n",
            "5               7.4             0.660         0.00             1.8      0.075                 13.0                  40.0  0.99780  3.51       0.56      9.4        5\n",
            "6               7.9             0.600         0.06             1.6      0.069                 15.0                  59.0  0.99640  3.30       0.46      9.4        5\n",
            "7               7.3             0.650         0.00             1.2      0.065                 15.0                  21.0  0.99460  3.39       0.47     10.0        7\n",
            "8               7.8             0.580         0.02             2.0      0.073                  9.0                  18.0  0.99680  3.36       0.57      9.5        7\n",
            "9               7.5             0.500         0.36             6.1      0.071                 17.0                 102.0  0.99780  3.35       0.80     10.5        5\n",
            "10              6.7             0.580         0.08             1.8      0.097                 15.0                  65.0  0.99590  3.28       0.54      9.2        5\n",
            "11              7.5             0.500         0.36             6.1      0.071                 17.0                 102.0  0.99780  3.35       0.80     10.5        5\n",
            "12              5.6             0.615         0.00             1.6      0.089                 16.0                  59.0  0.99430  3.58       0.52      9.9        5\n",
            "13              7.8             0.610         0.29             1.6      0.114                  9.0                  29.0  0.99740  3.26       1.56      9.1        5\n",
            "14              8.9             0.620         0.18             3.8      0.176                 52.0                 145.0  0.99860  3.16       0.88      9.2        5\n",
            "15              8.9             0.620         0.19             3.9      0.170                 51.0                 148.0  0.99860  3.17       0.93      9.2        5\n",
            "16              8.5             0.280         0.56             1.8      0.092                 35.0                 103.0  0.99690  3.30       0.75     10.5        7\n",
            "17              8.1             0.560         0.28             1.7      0.368                 16.0                  56.0  0.99680  3.11       1.28      9.3        5\n",
            "18              7.4             0.590         0.08             4.4      0.086                  6.0                  29.0  0.99740  3.38       0.50      9.0        4\n",
            "19              7.9             0.320         0.51             1.8      0.341                 17.0                  56.0  0.99690  3.04       1.08      9.2        6\n",
            "20              8.9             0.220         0.48             1.8      0.077                 29.0                  60.0  0.99680  3.39       0.53      9.4        6\n",
            "21              7.6             0.390         0.31             2.3      0.082                 23.0                  71.0  0.99820  3.52       0.65      9.7        5\n",
            "22              7.9             0.430         0.21             1.6      0.106                 10.0                  37.0  0.99660  3.17       0.91      9.5        5\n",
            "23              8.5             0.490         0.11             2.3      0.084                  9.0                  67.0  0.99680  3.17       0.53      9.4        5\n",
            "24              6.9             0.400         0.14             2.4      0.085                 21.0                  40.0  0.99680  3.43       0.63      9.7        6\n",
            "25              6.3             0.390         0.16             1.4      0.080                 11.0                  23.0  0.99550  3.34       0.56      9.3        5\n",
            "26              7.6             0.410         0.24             1.8      0.080                  4.0                  11.0  0.99620  3.28       0.59      9.5        5\n",
            "27              7.9             0.430         0.21             1.6      0.106                 10.0                  37.0  0.99660  3.17       0.91      9.5        5\n",
            "28              7.1             0.710         0.00             1.9      0.080                 14.0                  35.0  0.99720  3.47       0.55      9.4        5\n",
            "29              7.8             0.645         0.00             2.0      0.082                  8.0                  16.0  0.99640  3.38       0.59      9.8        6\n",
            "...             ...               ...          ...             ...        ...                  ...                   ...      ...   ...        ...      ...      ...\n",
            "1569            6.2             0.510         0.14             1.9      0.056                 15.0                  34.0  0.99396  3.48       0.57     11.5        6\n",
            "1570            6.4             0.360         0.53             2.2      0.230                 19.0                  35.0  0.99340  3.37       0.93     12.4        6\n",
            "1571            6.4             0.380         0.14             2.2      0.038                 15.0                  25.0  0.99514  3.44       0.65     11.1        6\n",
            "1572            7.3             0.690         0.32             2.2      0.069                 35.0                 104.0  0.99632  3.33       0.51      9.5        5\n",
            "1573            6.0             0.580         0.20             2.4      0.075                 15.0                  50.0  0.99467  3.58       0.67     12.5        6\n",
            "1574            5.6             0.310         0.78            13.9      0.074                 23.0                  92.0  0.99677  3.39       0.48     10.5        6\n",
            "1575            7.5             0.520         0.40             2.2      0.060                 12.0                  20.0  0.99474  3.26       0.64     11.8        6\n",
            "1576            8.0             0.300         0.63             1.6      0.081                 16.0                  29.0  0.99588  3.30       0.78     10.8        6\n",
            "1577            6.2             0.700         0.15             5.1      0.076                 13.0                  27.0  0.99622  3.54       0.60     11.9        6\n",
            "1578            6.8             0.670         0.15             1.8      0.118                 13.0                  20.0  0.99540  3.42       0.67     11.3        6\n",
            "1579            6.2             0.560         0.09             1.7      0.053                 24.0                  32.0  0.99402  3.54       0.60     11.3        5\n",
            "1580            7.4             0.350         0.33             2.4      0.068                  9.0                  26.0  0.99470  3.36       0.60     11.9        6\n",
            "1581            6.2             0.560         0.09             1.7      0.053                 24.0                  32.0  0.99402  3.54       0.60     11.3        5\n",
            "1582            6.1             0.715         0.10             2.6      0.053                 13.0                  27.0  0.99362  3.57       0.50     11.9        5\n",
            "1583            6.2             0.460         0.29             2.1      0.074                 32.0                  98.0  0.99578  3.33       0.62      9.8        5\n",
            "1584            6.7             0.320         0.44             2.4      0.061                 24.0                  34.0  0.99484  3.29       0.80     11.6        7\n",
            "1585            7.2             0.390         0.44             2.6      0.066                 22.0                  48.0  0.99494  3.30       0.84     11.5        6\n",
            "1586            7.5             0.310         0.41             2.4      0.065                 34.0                  60.0  0.99492  3.34       0.85     11.4        6\n",
            "1587            5.8             0.610         0.11             1.8      0.066                 18.0                  28.0  0.99483  3.55       0.66     10.9        6\n",
            "1588            7.2             0.660         0.33             2.5      0.068                 34.0                 102.0  0.99414  3.27       0.78     12.8        6\n",
            "1589            6.6             0.725         0.20             7.8      0.073                 29.0                  79.0  0.99770  3.29       0.54      9.2        5\n",
            "1590            6.3             0.550         0.15             1.8      0.077                 26.0                  35.0  0.99314  3.32       0.82     11.6        6\n",
            "1591            5.4             0.740         0.09             1.7      0.089                 16.0                  26.0  0.99402  3.67       0.56     11.6        6\n",
            "1592            6.3             0.510         0.13             2.3      0.076                 29.0                  40.0  0.99574  3.42       0.75     11.0        6\n",
            "1593            6.8             0.620         0.08             1.9      0.068                 28.0                  38.0  0.99651  3.42       0.82      9.5        6\n",
            "1594            6.2             0.600         0.08             2.0      0.090                 32.0                  44.0  0.99490  3.45       0.58     10.5        5\n",
            "1595            5.9             0.550         0.10             2.2      0.062                 39.0                  51.0  0.99512  3.52       0.76     11.2        6\n",
            "1596            6.3             0.510         0.13             2.3      0.076                 29.0                  40.0  0.99574  3.42       0.75     11.0        6\n",
            "1597            5.9             0.645         0.12             2.0      0.075                 32.0                  44.0  0.99547  3.57       0.71     10.2        5\n",
            "1598            6.0             0.310         0.47             3.6      0.067                 18.0                  42.0  0.99549  3.39       0.66     11.0        6\n",
            "\n",
            "[1599 rows x 12 columns]\n"
          ],
          "name": "stdout"
        },
        {
          "output_type": "execute_result",
          "data": {
            "text/html": [
              "<div>\n",
              "<style scoped>\n",
              "    .dataframe tbody tr th:only-of-type {\n",
              "        vertical-align: middle;\n",
              "    }\n",
              "\n",
              "    .dataframe tbody tr th {\n",
              "        vertical-align: top;\n",
              "    }\n",
              "\n",
              "    .dataframe thead th {\n",
              "        text-align: right;\n",
              "    }\n",
              "</style>\n",
              "<table border=\"1\" class=\"dataframe\">\n",
              "  <thead>\n",
              "    <tr style=\"text-align: right;\">\n",
              "      <th></th>\n",
              "      <th>fixed acidity</th>\n",
              "      <th>volatile acidity</th>\n",
              "      <th>citric acid</th>\n",
              "      <th>residual sugar</th>\n",
              "      <th>chlorides</th>\n",
              "      <th>free sulfur dioxide</th>\n",
              "      <th>total sulfur dioxide</th>\n",
              "      <th>density</th>\n",
              "      <th>pH</th>\n",
              "      <th>sulphates</th>\n",
              "      <th>alcohol</th>\n",
              "      <th>quality</th>\n",
              "    </tr>\n",
              "  </thead>\n",
              "  <tbody>\n",
              "    <tr>\n",
              "      <th>count</th>\n",
              "      <td>1599.000000</td>\n",
              "      <td>1599.000000</td>\n",
              "      <td>1599.000000</td>\n",
              "      <td>1599.000000</td>\n",
              "      <td>1599.000000</td>\n",
              "      <td>1599.000000</td>\n",
              "      <td>1599.000000</td>\n",
              "      <td>1599.000000</td>\n",
              "      <td>1599.000000</td>\n",
              "      <td>1599.000000</td>\n",
              "      <td>1599.000000</td>\n",
              "      <td>1599.000000</td>\n",
              "    </tr>\n",
              "    <tr>\n",
              "      <th>mean</th>\n",
              "      <td>8.319637</td>\n",
              "      <td>0.527821</td>\n",
              "      <td>0.270976</td>\n",
              "      <td>2.538806</td>\n",
              "      <td>0.087467</td>\n",
              "      <td>15.874922</td>\n",
              "      <td>46.467792</td>\n",
              "      <td>0.996747</td>\n",
              "      <td>3.311113</td>\n",
              "      <td>0.658149</td>\n",
              "      <td>10.422983</td>\n",
              "      <td>5.636023</td>\n",
              "    </tr>\n",
              "    <tr>\n",
              "      <th>std</th>\n",
              "      <td>1.741096</td>\n",
              "      <td>0.179060</td>\n",
              "      <td>0.194801</td>\n",
              "      <td>1.409928</td>\n",
              "      <td>0.047065</td>\n",
              "      <td>10.460157</td>\n",
              "      <td>32.895324</td>\n",
              "      <td>0.001887</td>\n",
              "      <td>0.154386</td>\n",
              "      <td>0.169507</td>\n",
              "      <td>1.065668</td>\n",
              "      <td>0.807569</td>\n",
              "    </tr>\n",
              "    <tr>\n",
              "      <th>min</th>\n",
              "      <td>4.600000</td>\n",
              "      <td>0.120000</td>\n",
              "      <td>0.000000</td>\n",
              "      <td>0.900000</td>\n",
              "      <td>0.012000</td>\n",
              "      <td>1.000000</td>\n",
              "      <td>6.000000</td>\n",
              "      <td>0.990070</td>\n",
              "      <td>2.740000</td>\n",
              "      <td>0.330000</td>\n",
              "      <td>8.400000</td>\n",
              "      <td>3.000000</td>\n",
              "    </tr>\n",
              "    <tr>\n",
              "      <th>25%</th>\n",
              "      <td>7.100000</td>\n",
              "      <td>0.390000</td>\n",
              "      <td>0.090000</td>\n",
              "      <td>1.900000</td>\n",
              "      <td>0.070000</td>\n",
              "      <td>7.000000</td>\n",
              "      <td>22.000000</td>\n",
              "      <td>0.995600</td>\n",
              "      <td>3.210000</td>\n",
              "      <td>0.550000</td>\n",
              "      <td>9.500000</td>\n",
              "      <td>5.000000</td>\n",
              "    </tr>\n",
              "    <tr>\n",
              "      <th>50%</th>\n",
              "      <td>7.900000</td>\n",
              "      <td>0.520000</td>\n",
              "      <td>0.260000</td>\n",
              "      <td>2.200000</td>\n",
              "      <td>0.079000</td>\n",
              "      <td>14.000000</td>\n",
              "      <td>38.000000</td>\n",
              "      <td>0.996750</td>\n",
              "      <td>3.310000</td>\n",
              "      <td>0.620000</td>\n",
              "      <td>10.200000</td>\n",
              "      <td>6.000000</td>\n",
              "    </tr>\n",
              "    <tr>\n",
              "      <th>75%</th>\n",
              "      <td>9.200000</td>\n",
              "      <td>0.640000</td>\n",
              "      <td>0.420000</td>\n",
              "      <td>2.600000</td>\n",
              "      <td>0.090000</td>\n",
              "      <td>21.000000</td>\n",
              "      <td>62.000000</td>\n",
              "      <td>0.997835</td>\n",
              "      <td>3.400000</td>\n",
              "      <td>0.730000</td>\n",
              "      <td>11.100000</td>\n",
              "      <td>6.000000</td>\n",
              "    </tr>\n",
              "    <tr>\n",
              "      <th>max</th>\n",
              "      <td>15.900000</td>\n",
              "      <td>1.580000</td>\n",
              "      <td>1.000000</td>\n",
              "      <td>15.500000</td>\n",
              "      <td>0.611000</td>\n",
              "      <td>72.000000</td>\n",
              "      <td>289.000000</td>\n",
              "      <td>1.003690</td>\n",
              "      <td>4.010000</td>\n",
              "      <td>2.000000</td>\n",
              "      <td>14.900000</td>\n",
              "      <td>8.000000</td>\n",
              "    </tr>\n",
              "  </tbody>\n",
              "</table>\n",
              "</div>"
            ],
            "text/plain": [
              "       fixed acidity  volatile acidity  citric acid  residual sugar    chlorides  free sulfur dioxide  total sulfur dioxide      density           pH    sulphates      alcohol      quality\n",
              "count    1599.000000       1599.000000  1599.000000     1599.000000  1599.000000          1599.000000           1599.000000  1599.000000  1599.000000  1599.000000  1599.000000  1599.000000\n",
              "mean        8.319637          0.527821     0.270976        2.538806     0.087467            15.874922             46.467792     0.996747     3.311113     0.658149    10.422983     5.636023\n",
              "std         1.741096          0.179060     0.194801        1.409928     0.047065            10.460157             32.895324     0.001887     0.154386     0.169507     1.065668     0.807569\n",
              "min         4.600000          0.120000     0.000000        0.900000     0.012000             1.000000              6.000000     0.990070     2.740000     0.330000     8.400000     3.000000\n",
              "25%         7.100000          0.390000     0.090000        1.900000     0.070000             7.000000             22.000000     0.995600     3.210000     0.550000     9.500000     5.000000\n",
              "50%         7.900000          0.520000     0.260000        2.200000     0.079000            14.000000             38.000000     0.996750     3.310000     0.620000    10.200000     6.000000\n",
              "75%         9.200000          0.640000     0.420000        2.600000     0.090000            21.000000             62.000000     0.997835     3.400000     0.730000    11.100000     6.000000\n",
              "max        15.900000          1.580000     1.000000       15.500000     0.611000            72.000000            289.000000     1.003690     4.010000     2.000000    14.900000     8.000000"
            ]
          },
          "metadata": {
            "tags": []
          },
          "execution_count": 116
        }
      ]
    },
    {
      "cell_type": "markdown",
      "metadata": {
        "id": "_sBH_98bFsy7"
      },
      "source": [
        "**Data Processing**"
      ]
    },
    {
      "cell_type": "markdown",
      "metadata": {
        "id": "RSI4sagxC7Nd"
      },
      "source": [
        "Replace the quality column with a column named \"pass\".\n",
        "If the quality is >= 7 then the wine passes, otherwise it fails."
      ]
    },
    {
      "cell_type": "code",
      "metadata": {
        "id": "KIylmX8YCxiA",
        "colab": {
          "base_uri": "https://localhost:8080/",
          "height": 1196
        },
        "outputId": "5e5bbfcf-8969-4aa5-af67-00bc675d44c3"
      },
      "source": [
        "df.insert(12,\"pass\", 0)\n",
        "for i in range(df[\"pass\"].size):\n",
        "  if df[\"quality\"][i]>=7:\n",
        "    df['pass'][i] = 1\n",
        "\n",
        "df = df.drop(\"quality\",axis=1)\n",
        "print(df)"
      ],
      "execution_count": null,
      "outputs": [
        {
          "output_type": "stream",
          "text": [
            "/usr/local/lib/python3.6/dist-packages/ipykernel_launcher.py:4: SettingWithCopyWarning: \n",
            "A value is trying to be set on a copy of a slice from a DataFrame\n",
            "\n",
            "See the caveats in the documentation: http://pandas.pydata.org/pandas-docs/stable/indexing.html#indexing-view-versus-copy\n",
            "  after removing the cwd from sys.path.\n"
          ],
          "name": "stderr"
        },
        {
          "output_type": "stream",
          "text": [
            "      fixed acidity  volatile acidity  citric acid  residual sugar  chlorides  free sulfur dioxide  total sulfur dioxide  density    pH  sulphates  alcohol  pass\n",
            "0               7.4             0.700         0.00             1.9      0.076                 11.0                  34.0  0.99780  3.51       0.56      9.4     0\n",
            "1               7.8             0.880         0.00             2.6      0.098                 25.0                  67.0  0.99680  3.20       0.68      9.8     0\n",
            "2               7.8             0.760         0.04             2.3      0.092                 15.0                  54.0  0.99700  3.26       0.65      9.8     0\n",
            "3              11.2             0.280         0.56             1.9      0.075                 17.0                  60.0  0.99800  3.16       0.58      9.8     0\n",
            "4               7.4             0.700         0.00             1.9      0.076                 11.0                  34.0  0.99780  3.51       0.56      9.4     0\n",
            "5               7.4             0.660         0.00             1.8      0.075                 13.0                  40.0  0.99780  3.51       0.56      9.4     0\n",
            "6               7.9             0.600         0.06             1.6      0.069                 15.0                  59.0  0.99640  3.30       0.46      9.4     0\n",
            "7               7.3             0.650         0.00             1.2      0.065                 15.0                  21.0  0.99460  3.39       0.47     10.0     1\n",
            "8               7.8             0.580         0.02             2.0      0.073                  9.0                  18.0  0.99680  3.36       0.57      9.5     1\n",
            "9               7.5             0.500         0.36             6.1      0.071                 17.0                 102.0  0.99780  3.35       0.80     10.5     0\n",
            "10              6.7             0.580         0.08             1.8      0.097                 15.0                  65.0  0.99590  3.28       0.54      9.2     0\n",
            "11              7.5             0.500         0.36             6.1      0.071                 17.0                 102.0  0.99780  3.35       0.80     10.5     0\n",
            "12              5.6             0.615         0.00             1.6      0.089                 16.0                  59.0  0.99430  3.58       0.52      9.9     0\n",
            "13              7.8             0.610         0.29             1.6      0.114                  9.0                  29.0  0.99740  3.26       1.56      9.1     0\n",
            "14              8.9             0.620         0.18             3.8      0.176                 52.0                 145.0  0.99860  3.16       0.88      9.2     0\n",
            "15              8.9             0.620         0.19             3.9      0.170                 51.0                 148.0  0.99860  3.17       0.93      9.2     0\n",
            "16              8.5             0.280         0.56             1.8      0.092                 35.0                 103.0  0.99690  3.30       0.75     10.5     1\n",
            "17              8.1             0.560         0.28             1.7      0.368                 16.0                  56.0  0.99680  3.11       1.28      9.3     0\n",
            "18              7.4             0.590         0.08             4.4      0.086                  6.0                  29.0  0.99740  3.38       0.50      9.0     0\n",
            "19              7.9             0.320         0.51             1.8      0.341                 17.0                  56.0  0.99690  3.04       1.08      9.2     0\n",
            "20              8.9             0.220         0.48             1.8      0.077                 29.0                  60.0  0.99680  3.39       0.53      9.4     0\n",
            "21              7.6             0.390         0.31             2.3      0.082                 23.0                  71.0  0.99820  3.52       0.65      9.7     0\n",
            "22              7.9             0.430         0.21             1.6      0.106                 10.0                  37.0  0.99660  3.17       0.91      9.5     0\n",
            "23              8.5             0.490         0.11             2.3      0.084                  9.0                  67.0  0.99680  3.17       0.53      9.4     0\n",
            "24              6.9             0.400         0.14             2.4      0.085                 21.0                  40.0  0.99680  3.43       0.63      9.7     0\n",
            "25              6.3             0.390         0.16             1.4      0.080                 11.0                  23.0  0.99550  3.34       0.56      9.3     0\n",
            "26              7.6             0.410         0.24             1.8      0.080                  4.0                  11.0  0.99620  3.28       0.59      9.5     0\n",
            "27              7.9             0.430         0.21             1.6      0.106                 10.0                  37.0  0.99660  3.17       0.91      9.5     0\n",
            "28              7.1             0.710         0.00             1.9      0.080                 14.0                  35.0  0.99720  3.47       0.55      9.4     0\n",
            "29              7.8             0.645         0.00             2.0      0.082                  8.0                  16.0  0.99640  3.38       0.59      9.8     0\n",
            "...             ...               ...          ...             ...        ...                  ...                   ...      ...   ...        ...      ...   ...\n",
            "1569            6.2             0.510         0.14             1.9      0.056                 15.0                  34.0  0.99396  3.48       0.57     11.5     0\n",
            "1570            6.4             0.360         0.53             2.2      0.230                 19.0                  35.0  0.99340  3.37       0.93     12.4     0\n",
            "1571            6.4             0.380         0.14             2.2      0.038                 15.0                  25.0  0.99514  3.44       0.65     11.1     0\n",
            "1572            7.3             0.690         0.32             2.2      0.069                 35.0                 104.0  0.99632  3.33       0.51      9.5     0\n",
            "1573            6.0             0.580         0.20             2.4      0.075                 15.0                  50.0  0.99467  3.58       0.67     12.5     0\n",
            "1574            5.6             0.310         0.78            13.9      0.074                 23.0                  92.0  0.99677  3.39       0.48     10.5     0\n",
            "1575            7.5             0.520         0.40             2.2      0.060                 12.0                  20.0  0.99474  3.26       0.64     11.8     0\n",
            "1576            8.0             0.300         0.63             1.6      0.081                 16.0                  29.0  0.99588  3.30       0.78     10.8     0\n",
            "1577            6.2             0.700         0.15             5.1      0.076                 13.0                  27.0  0.99622  3.54       0.60     11.9     0\n",
            "1578            6.8             0.670         0.15             1.8      0.118                 13.0                  20.0  0.99540  3.42       0.67     11.3     0\n",
            "1579            6.2             0.560         0.09             1.7      0.053                 24.0                  32.0  0.99402  3.54       0.60     11.3     0\n",
            "1580            7.4             0.350         0.33             2.4      0.068                  9.0                  26.0  0.99470  3.36       0.60     11.9     0\n",
            "1581            6.2             0.560         0.09             1.7      0.053                 24.0                  32.0  0.99402  3.54       0.60     11.3     0\n",
            "1582            6.1             0.715         0.10             2.6      0.053                 13.0                  27.0  0.99362  3.57       0.50     11.9     0\n",
            "1583            6.2             0.460         0.29             2.1      0.074                 32.0                  98.0  0.99578  3.33       0.62      9.8     0\n",
            "1584            6.7             0.320         0.44             2.4      0.061                 24.0                  34.0  0.99484  3.29       0.80     11.6     1\n",
            "1585            7.2             0.390         0.44             2.6      0.066                 22.0                  48.0  0.99494  3.30       0.84     11.5     0\n",
            "1586            7.5             0.310         0.41             2.4      0.065                 34.0                  60.0  0.99492  3.34       0.85     11.4     0\n",
            "1587            5.8             0.610         0.11             1.8      0.066                 18.0                  28.0  0.99483  3.55       0.66     10.9     0\n",
            "1588            7.2             0.660         0.33             2.5      0.068                 34.0                 102.0  0.99414  3.27       0.78     12.8     0\n",
            "1589            6.6             0.725         0.20             7.8      0.073                 29.0                  79.0  0.99770  3.29       0.54      9.2     0\n",
            "1590            6.3             0.550         0.15             1.8      0.077                 26.0                  35.0  0.99314  3.32       0.82     11.6     0\n",
            "1591            5.4             0.740         0.09             1.7      0.089                 16.0                  26.0  0.99402  3.67       0.56     11.6     0\n",
            "1592            6.3             0.510         0.13             2.3      0.076                 29.0                  40.0  0.99574  3.42       0.75     11.0     0\n",
            "1593            6.8             0.620         0.08             1.9      0.068                 28.0                  38.0  0.99651  3.42       0.82      9.5     0\n",
            "1594            6.2             0.600         0.08             2.0      0.090                 32.0                  44.0  0.99490  3.45       0.58     10.5     0\n",
            "1595            5.9             0.550         0.10             2.2      0.062                 39.0                  51.0  0.99512  3.52       0.76     11.2     0\n",
            "1596            6.3             0.510         0.13             2.3      0.076                 29.0                  40.0  0.99574  3.42       0.75     11.0     0\n",
            "1597            5.9             0.645         0.12             2.0      0.075                 32.0                  44.0  0.99547  3.57       0.71     10.2     0\n",
            "1598            6.0             0.310         0.47             3.6      0.067                 18.0                  42.0  0.99549  3.39       0.66     11.0     0\n",
            "\n",
            "[1599 rows x 12 columns]\n"
          ],
          "name": "stdout"
        }
      ]
    },
    {
      "cell_type": "markdown",
      "metadata": {
        "id": "QhtmGAD2E7wJ"
      },
      "source": [
        "Check if there are any missing values (NaN or 0's that dont make sense). If there are remove them.\n"
      ]
    },
    {
      "cell_type": "markdown",
      "metadata": {
        "id": "-tSKrPjKFnFq"
      },
      "source": [
        "**Data Standardization**\n",
        "Look at your code from yesterday. I want you to standardize this data in the same way."
      ]
    },
    {
      "cell_type": "code",
      "metadata": {
        "id": "AR-leNrSF8Tz",
        "colab": {
          "base_uri": "https://localhost:8080/",
          "height": 338
        },
        "outputId": "4fe80501-b908-46bb-e8a4-8b2b56a3807e"
      },
      "source": [
        "\n",
        "df[\"citric acid\"]=df[\"citric acid\"].replace(0,np.nan)\n",
        "df=df.dropna().reset_index(drop=True)\n",
        "df.describe()\n"
      ],
      "execution_count": null,
      "outputs": [
        {
          "output_type": "execute_result",
          "data": {
            "text/html": [
              "<div>\n",
              "<style scoped>\n",
              "    .dataframe tbody tr th:only-of-type {\n",
              "        vertical-align: middle;\n",
              "    }\n",
              "\n",
              "    .dataframe tbody tr th {\n",
              "        vertical-align: top;\n",
              "    }\n",
              "\n",
              "    .dataframe thead th {\n",
              "        text-align: right;\n",
              "    }\n",
              "</style>\n",
              "<table border=\"1\" class=\"dataframe\">\n",
              "  <thead>\n",
              "    <tr style=\"text-align: right;\">\n",
              "      <th></th>\n",
              "      <th>fixed acidity</th>\n",
              "      <th>volatile acidity</th>\n",
              "      <th>citric acid</th>\n",
              "      <th>residual sugar</th>\n",
              "      <th>chlorides</th>\n",
              "      <th>free sulfur dioxide</th>\n",
              "      <th>total sulfur dioxide</th>\n",
              "      <th>density</th>\n",
              "      <th>pH</th>\n",
              "      <th>sulphates</th>\n",
              "      <th>alcohol</th>\n",
              "      <th>pass</th>\n",
              "    </tr>\n",
              "  </thead>\n",
              "  <tbody>\n",
              "    <tr>\n",
              "      <th>count</th>\n",
              "      <td>1467.000000</td>\n",
              "      <td>1467.000000</td>\n",
              "      <td>1467.000000</td>\n",
              "      <td>1467.000000</td>\n",
              "      <td>1467.000000</td>\n",
              "      <td>1467.000000</td>\n",
              "      <td>1467.000000</td>\n",
              "      <td>1467.000000</td>\n",
              "      <td>1467.000000</td>\n",
              "      <td>1467.000000</td>\n",
              "      <td>1467.000000</td>\n",
              "      <td>1467.000000</td>\n",
              "    </tr>\n",
              "    <tr>\n",
              "      <th>mean</th>\n",
              "      <td>8.438582</td>\n",
              "      <td>0.513033</td>\n",
              "      <td>0.295358</td>\n",
              "      <td>2.565815</td>\n",
              "      <td>0.087835</td>\n",
              "      <td>15.926380</td>\n",
              "      <td>47.768916</td>\n",
              "      <td>0.996821</td>\n",
              "      <td>3.298057</td>\n",
              "      <td>0.662965</td>\n",
              "      <td>10.412986</td>\n",
              "      <td>0.142468</td>\n",
              "    </tr>\n",
              "    <tr>\n",
              "      <th>std</th>\n",
              "      <td>1.748852</td>\n",
              "      <td>0.171945</td>\n",
              "      <td>0.184819</td>\n",
              "      <td>1.449658</td>\n",
              "      <td>0.048318</td>\n",
              "      <td>10.438805</td>\n",
              "      <td>33.585820</td>\n",
              "      <td>0.001867</td>\n",
              "      <td>0.148996</td>\n",
              "      <td>0.172575</td>\n",
              "      <td>1.053297</td>\n",
              "      <td>0.349648</td>\n",
              "    </tr>\n",
              "    <tr>\n",
              "      <th>min</th>\n",
              "      <td>4.600000</td>\n",
              "      <td>0.120000</td>\n",
              "      <td>0.010000</td>\n",
              "      <td>0.900000</td>\n",
              "      <td>0.012000</td>\n",
              "      <td>1.000000</td>\n",
              "      <td>6.000000</td>\n",
              "      <td>0.990070</td>\n",
              "      <td>2.740000</td>\n",
              "      <td>0.330000</td>\n",
              "      <td>8.400000</td>\n",
              "      <td>0.000000</td>\n",
              "    </tr>\n",
              "    <tr>\n",
              "      <th>25%</th>\n",
              "      <td>7.200000</td>\n",
              "      <td>0.380000</td>\n",
              "      <td>0.140000</td>\n",
              "      <td>1.900000</td>\n",
              "      <td>0.071000</td>\n",
              "      <td>7.000000</td>\n",
              "      <td>23.000000</td>\n",
              "      <td>0.995700</td>\n",
              "      <td>3.200000</td>\n",
              "      <td>0.550000</td>\n",
              "      <td>9.500000</td>\n",
              "      <td>0.000000</td>\n",
              "    </tr>\n",
              "    <tr>\n",
              "      <th>50%</th>\n",
              "      <td>8.000000</td>\n",
              "      <td>0.500000</td>\n",
              "      <td>0.280000</td>\n",
              "      <td>2.200000</td>\n",
              "      <td>0.079000</td>\n",
              "      <td>14.000000</td>\n",
              "      <td>39.000000</td>\n",
              "      <td>0.996800</td>\n",
              "      <td>3.300000</td>\n",
              "      <td>0.620000</td>\n",
              "      <td>10.200000</td>\n",
              "      <td>0.000000</td>\n",
              "    </tr>\n",
              "    <tr>\n",
              "      <th>75%</th>\n",
              "      <td>9.400000</td>\n",
              "      <td>0.620000</td>\n",
              "      <td>0.440000</td>\n",
              "      <td>2.600000</td>\n",
              "      <td>0.090000</td>\n",
              "      <td>22.000000</td>\n",
              "      <td>65.000000</td>\n",
              "      <td>0.997900</td>\n",
              "      <td>3.390000</td>\n",
              "      <td>0.740000</td>\n",
              "      <td>11.100000</td>\n",
              "      <td>0.000000</td>\n",
              "    </tr>\n",
              "    <tr>\n",
              "      <th>max</th>\n",
              "      <td>15.900000</td>\n",
              "      <td>1.240000</td>\n",
              "      <td>1.000000</td>\n",
              "      <td>15.500000</td>\n",
              "      <td>0.611000</td>\n",
              "      <td>72.000000</td>\n",
              "      <td>289.000000</td>\n",
              "      <td>1.003690</td>\n",
              "      <td>3.900000</td>\n",
              "      <td>2.000000</td>\n",
              "      <td>14.900000</td>\n",
              "      <td>1.000000</td>\n",
              "    </tr>\n",
              "  </tbody>\n",
              "</table>\n",
              "</div>"
            ],
            "text/plain": [
              "       fixed acidity  volatile acidity  citric acid  residual sugar    chlorides  free sulfur dioxide  total sulfur dioxide      density           pH    sulphates      alcohol         pass\n",
              "count    1467.000000       1467.000000  1467.000000     1467.000000  1467.000000          1467.000000           1467.000000  1467.000000  1467.000000  1467.000000  1467.000000  1467.000000\n",
              "mean        8.438582          0.513033     0.295358        2.565815     0.087835            15.926380             47.768916     0.996821     3.298057     0.662965    10.412986     0.142468\n",
              "std         1.748852          0.171945     0.184819        1.449658     0.048318            10.438805             33.585820     0.001867     0.148996     0.172575     1.053297     0.349648\n",
              "min         4.600000          0.120000     0.010000        0.900000     0.012000             1.000000              6.000000     0.990070     2.740000     0.330000     8.400000     0.000000\n",
              "25%         7.200000          0.380000     0.140000        1.900000     0.071000             7.000000             23.000000     0.995700     3.200000     0.550000     9.500000     0.000000\n",
              "50%         8.000000          0.500000     0.280000        2.200000     0.079000            14.000000             39.000000     0.996800     3.300000     0.620000    10.200000     0.000000\n",
              "75%         9.400000          0.620000     0.440000        2.600000     0.090000            22.000000             65.000000     0.997900     3.390000     0.740000    11.100000     0.000000\n",
              "max        15.900000          1.240000     1.000000       15.500000     0.611000            72.000000            289.000000     1.003690     3.900000     2.000000    14.900000     1.000000"
            ]
          },
          "metadata": {
            "tags": []
          },
          "execution_count": 118
        }
      ]
    },
    {
      "cell_type": "markdown",
      "metadata": {
        "id": "Ks75n8a2GXtN"
      },
      "source": [
        "![alt text](https://)**Spliting the Data:** Also same as yesterday"
      ]
    },
    {
      "cell_type": "code",
      "metadata": {
        "id": "FRr0YHtMGkQX",
        "colab": {
          "base_uri": "https://localhost:8080/",
          "height": 2154
        },
        "outputId": "e82606a1-3942-4a11-eeef-baf4b7126666"
      },
      "source": [
        "from sklearn.model_selection import train_test_split\n",
        "X=df.drop(\"pass\", axis = 1)\n",
        "y=df[\"pass\"]\n",
        "print(X)\n",
        "print(y)\n",
        "X_train,X_test,y_train,y_test=train_test_split(X,y, test_size=.2)\n",
        "X_train,X_val,y_train,y_val=train_test_split(X_train,y_train, test_size=.2)"
      ],
      "execution_count": null,
      "outputs": [
        {
          "output_type": "stream",
          "text": [
            "      fixed acidity  volatile acidity  citric acid  residual sugar  chlorides  free sulfur dioxide  total sulfur dioxide  density    pH  sulphates  alcohol\n",
            "0               7.8             0.760         0.04             2.3      0.092                 15.0                  54.0  0.99700  3.26       0.65      9.8\n",
            "1              11.2             0.280         0.56             1.9      0.075                 17.0                  60.0  0.99800  3.16       0.58      9.8\n",
            "2               7.9             0.600         0.06             1.6      0.069                 15.0                  59.0  0.99640  3.30       0.46      9.4\n",
            "3               7.8             0.580         0.02             2.0      0.073                  9.0                  18.0  0.99680  3.36       0.57      9.5\n",
            "4               7.5             0.500         0.36             6.1      0.071                 17.0                 102.0  0.99780  3.35       0.80     10.5\n",
            "5               6.7             0.580         0.08             1.8      0.097                 15.0                  65.0  0.99590  3.28       0.54      9.2\n",
            "6               7.5             0.500         0.36             6.1      0.071                 17.0                 102.0  0.99780  3.35       0.80     10.5\n",
            "7               7.8             0.610         0.29             1.6      0.114                  9.0                  29.0  0.99740  3.26       1.56      9.1\n",
            "8               8.9             0.620         0.18             3.8      0.176                 52.0                 145.0  0.99860  3.16       0.88      9.2\n",
            "9               8.9             0.620         0.19             3.9      0.170                 51.0                 148.0  0.99860  3.17       0.93      9.2\n",
            "10              8.5             0.280         0.56             1.8      0.092                 35.0                 103.0  0.99690  3.30       0.75     10.5\n",
            "11              8.1             0.560         0.28             1.7      0.368                 16.0                  56.0  0.99680  3.11       1.28      9.3\n",
            "12              7.4             0.590         0.08             4.4      0.086                  6.0                  29.0  0.99740  3.38       0.50      9.0\n",
            "13              7.9             0.320         0.51             1.8      0.341                 17.0                  56.0  0.99690  3.04       1.08      9.2\n",
            "14              8.9             0.220         0.48             1.8      0.077                 29.0                  60.0  0.99680  3.39       0.53      9.4\n",
            "15              7.6             0.390         0.31             2.3      0.082                 23.0                  71.0  0.99820  3.52       0.65      9.7\n",
            "16              7.9             0.430         0.21             1.6      0.106                 10.0                  37.0  0.99660  3.17       0.91      9.5\n",
            "17              8.5             0.490         0.11             2.3      0.084                  9.0                  67.0  0.99680  3.17       0.53      9.4\n",
            "18              6.9             0.400         0.14             2.4      0.085                 21.0                  40.0  0.99680  3.43       0.63      9.7\n",
            "19              6.3             0.390         0.16             1.4      0.080                 11.0                  23.0  0.99550  3.34       0.56      9.3\n",
            "20              7.6             0.410         0.24             1.8      0.080                  4.0                  11.0  0.99620  3.28       0.59      9.5\n",
            "21              7.9             0.430         0.21             1.6      0.106                 10.0                  37.0  0.99660  3.17       0.91      9.5\n",
            "22              6.7             0.675         0.07             2.4      0.089                 17.0                  82.0  0.99580  3.35       0.54     10.1\n",
            "23              8.3             0.655         0.12             2.3      0.083                 15.0                 113.0  0.99660  3.17       0.66      9.8\n",
            "24              6.9             0.605         0.12            10.7      0.073                 40.0                  83.0  0.99930  3.45       0.52      9.4\n",
            "25              5.2             0.320         0.25             1.8      0.103                 13.0                  50.0  0.99570  3.38       0.55      9.2\n",
            "26              7.8             0.600         0.14             2.4      0.086                  3.0                  15.0  0.99750  3.42       0.60     10.8\n",
            "27              8.1             0.380         0.28             2.1      0.066                 13.0                  30.0  0.99680  3.23       0.73      9.7\n",
            "28              5.7             1.130         0.09             1.5      0.172                  7.0                  19.0  0.99400  3.50       0.48      9.8\n",
            "29              7.3             0.450         0.36             5.9      0.074                 12.0                  87.0  0.99780  3.33       0.83     10.5\n",
            "...             ...               ...          ...             ...        ...                  ...                   ...      ...   ...        ...      ...\n",
            "1437            6.2             0.510         0.14             1.9      0.056                 15.0                  34.0  0.99396  3.48       0.57     11.5\n",
            "1438            6.4             0.360         0.53             2.2      0.230                 19.0                  35.0  0.99340  3.37       0.93     12.4\n",
            "1439            6.4             0.380         0.14             2.2      0.038                 15.0                  25.0  0.99514  3.44       0.65     11.1\n",
            "1440            7.3             0.690         0.32             2.2      0.069                 35.0                 104.0  0.99632  3.33       0.51      9.5\n",
            "1441            6.0             0.580         0.20             2.4      0.075                 15.0                  50.0  0.99467  3.58       0.67     12.5\n",
            "1442            5.6             0.310         0.78            13.9      0.074                 23.0                  92.0  0.99677  3.39       0.48     10.5\n",
            "1443            7.5             0.520         0.40             2.2      0.060                 12.0                  20.0  0.99474  3.26       0.64     11.8\n",
            "1444            8.0             0.300         0.63             1.6      0.081                 16.0                  29.0  0.99588  3.30       0.78     10.8\n",
            "1445            6.2             0.700         0.15             5.1      0.076                 13.0                  27.0  0.99622  3.54       0.60     11.9\n",
            "1446            6.8             0.670         0.15             1.8      0.118                 13.0                  20.0  0.99540  3.42       0.67     11.3\n",
            "1447            6.2             0.560         0.09             1.7      0.053                 24.0                  32.0  0.99402  3.54       0.60     11.3\n",
            "1448            7.4             0.350         0.33             2.4      0.068                  9.0                  26.0  0.99470  3.36       0.60     11.9\n",
            "1449            6.2             0.560         0.09             1.7      0.053                 24.0                  32.0  0.99402  3.54       0.60     11.3\n",
            "1450            6.1             0.715         0.10             2.6      0.053                 13.0                  27.0  0.99362  3.57       0.50     11.9\n",
            "1451            6.2             0.460         0.29             2.1      0.074                 32.0                  98.0  0.99578  3.33       0.62      9.8\n",
            "1452            6.7             0.320         0.44             2.4      0.061                 24.0                  34.0  0.99484  3.29       0.80     11.6\n",
            "1453            7.2             0.390         0.44             2.6      0.066                 22.0                  48.0  0.99494  3.30       0.84     11.5\n",
            "1454            7.5             0.310         0.41             2.4      0.065                 34.0                  60.0  0.99492  3.34       0.85     11.4\n",
            "1455            5.8             0.610         0.11             1.8      0.066                 18.0                  28.0  0.99483  3.55       0.66     10.9\n",
            "1456            7.2             0.660         0.33             2.5      0.068                 34.0                 102.0  0.99414  3.27       0.78     12.8\n",
            "1457            6.6             0.725         0.20             7.8      0.073                 29.0                  79.0  0.99770  3.29       0.54      9.2\n",
            "1458            6.3             0.550         0.15             1.8      0.077                 26.0                  35.0  0.99314  3.32       0.82     11.6\n",
            "1459            5.4             0.740         0.09             1.7      0.089                 16.0                  26.0  0.99402  3.67       0.56     11.6\n",
            "1460            6.3             0.510         0.13             2.3      0.076                 29.0                  40.0  0.99574  3.42       0.75     11.0\n",
            "1461            6.8             0.620         0.08             1.9      0.068                 28.0                  38.0  0.99651  3.42       0.82      9.5\n",
            "1462            6.2             0.600         0.08             2.0      0.090                 32.0                  44.0  0.99490  3.45       0.58     10.5\n",
            "1463            5.9             0.550         0.10             2.2      0.062                 39.0                  51.0  0.99512  3.52       0.76     11.2\n",
            "1464            6.3             0.510         0.13             2.3      0.076                 29.0                  40.0  0.99574  3.42       0.75     11.0\n",
            "1465            5.9             0.645         0.12             2.0      0.075                 32.0                  44.0  0.99547  3.57       0.71     10.2\n",
            "1466            6.0             0.310         0.47             3.6      0.067                 18.0                  42.0  0.99549  3.39       0.66     11.0\n",
            "\n",
            "[1467 rows x 11 columns]\n",
            "0       0\n",
            "1       0\n",
            "2       0\n",
            "3       1\n",
            "4       0\n",
            "5       0\n",
            "6       0\n",
            "7       0\n",
            "8       0\n",
            "9       0\n",
            "10      1\n",
            "11      0\n",
            "12      0\n",
            "13      0\n",
            "14      0\n",
            "15      0\n",
            "16      0\n",
            "17      0\n",
            "18      0\n",
            "19      0\n",
            "20      0\n",
            "21      0\n",
            "22      0\n",
            "23      0\n",
            "24      0\n",
            "25      0\n",
            "26      0\n",
            "27      1\n",
            "28      0\n",
            "29      0\n",
            "       ..\n",
            "1437    0\n",
            "1438    0\n",
            "1439    0\n",
            "1440    0\n",
            "1441    0\n",
            "1442    0\n",
            "1443    0\n",
            "1444    0\n",
            "1445    0\n",
            "1446    0\n",
            "1447    0\n",
            "1448    0\n",
            "1449    0\n",
            "1450    0\n",
            "1451    0\n",
            "1452    1\n",
            "1453    0\n",
            "1454    0\n",
            "1455    0\n",
            "1456    0\n",
            "1457    0\n",
            "1458    0\n",
            "1459    0\n",
            "1460    0\n",
            "1461    0\n",
            "1462    0\n",
            "1463    0\n",
            "1464    0\n",
            "1465    0\n",
            "1466    0\n",
            "Name: pass, Length: 1467, dtype: int64\n"
          ],
          "name": "stdout"
        }
      ]
    },
    {
      "cell_type": "code",
      "metadata": {
        "id": "7obuxFtjGXRP"
      },
      "source": [],
      "execution_count": null,
      "outputs": []
    },
    {
      "cell_type": "markdown",
      "metadata": {
        "id": "bcmpjVMgGp2y"
      },
      "source": [
        "**`Build the model`**.<br>\n",
        " Play around with the hidden layers. Observe how your results change. Try changing the number of the nodes, or even add more layers."
      ]
    },
    {
      "cell_type": "code",
      "metadata": {
        "id": "QIC7Kr4HGn1O"
      },
      "source": [
        "from keras.models import Sequential\n",
        "\n",
        "model = Sequential()"
      ],
      "execution_count": null,
      "outputs": []
    },
    {
      "cell_type": "code",
      "metadata": {
        "id": "fDfl-7H-Jmu8"
      },
      "source": [
        "from keras.layers import Dense\n",
        "model.add(Dense(16,activation=\"relu\",input_dim=11))\n",
        "model.add(Dense(4,activation=\"relu\"))\n",
        "model.add(Dense(1,activation=\"sigmoid\"))"
      ],
      "execution_count": null,
      "outputs": []
    },
    {
      "cell_type": "markdown",
      "metadata": {
        "id": "501OMJhRHWcG"
      },
      "source": [
        "**Compile the Model**. Same as yesterday"
      ]
    },
    {
      "cell_type": "code",
      "metadata": {
        "id": "XM4KqNK7HVwr"
      },
      "source": [
        "model.compile(optimizer = 'adam', loss='binary_crossentropy', metrics=['accuracy'])"
      ],
      "execution_count": null,
      "outputs": []
    },
    {
      "cell_type": "markdown",
      "metadata": {
        "id": "KZWxbjDdHeuq"
      },
      "source": [
        "**Train the Model**"
      ]
    },
    {
      "cell_type": "code",
      "metadata": {
        "id": "DOgKADSsHiwg",
        "colab": {
          "base_uri": "https://localhost:8080/",
          "height": 504
        },
        "outputId": "fb1561dd-f80a-410b-85b4-590fecd7939d"
      },
      "source": [
        "model.fit(X_train,y_train, epochs=14)"
      ],
      "execution_count": null,
      "outputs": [
        {
          "output_type": "stream",
          "text": [
            "Epoch 1/14\n",
            "938/938 [==============================] - 1s 2ms/step - loss: 0.6830 - acc: 0.7868\n",
            "Epoch 2/14\n",
            "938/938 [==============================] - 0s 59us/step - loss: 0.6520 - acc: 0.8635\n",
            "Epoch 3/14\n",
            "938/938 [==============================] - 0s 57us/step - loss: 0.5588 - acc: 0.8635\n",
            "Epoch 4/14\n",
            "938/938 [==============================] - 0s 66us/step - loss: 0.4889 - acc: 0.8635\n",
            "Epoch 5/14\n",
            "938/938 [==============================] - 0s 57us/step - loss: 0.4490 - acc: 0.8635\n",
            "Epoch 6/14\n",
            "938/938 [==============================] - 0s 57us/step - loss: 0.4241 - acc: 0.8635\n",
            "Epoch 7/14\n",
            "938/938 [==============================] - 0s 58us/step - loss: 0.4102 - acc: 0.8635\n",
            "Epoch 8/14\n",
            "938/938 [==============================] - 0s 55us/step - loss: 0.4033 - acc: 0.8635\n",
            "Epoch 9/14\n",
            "938/938 [==============================] - 0s 58us/step - loss: 0.4003 - acc: 0.8635\n",
            "Epoch 10/14\n",
            "938/938 [==============================] - 0s 60us/step - loss: 0.3989 - acc: 0.8635\n",
            "Epoch 11/14\n",
            "938/938 [==============================] - 0s 71us/step - loss: 0.3925 - acc: 0.8635\n",
            "Epoch 12/14\n",
            "938/938 [==============================] - 0s 63us/step - loss: 0.3904 - acc: 0.8635\n",
            "Epoch 13/14\n",
            "938/938 [==============================] - 0s 58us/step - loss: 0.3872 - acc: 0.8635\n",
            "Epoch 14/14\n",
            "938/938 [==============================] - 0s 74us/step - loss: 0.3836 - acc: 0.8635\n"
          ],
          "name": "stdout"
        },
        {
          "output_type": "execute_result",
          "data": {
            "text/plain": [
              "<keras.callbacks.History at 0x7fcee5f9f5f8>"
            ]
          },
          "metadata": {
            "tags": []
          },
          "execution_count": 126
        }
      ]
    },
    {
      "cell_type": "markdown",
      "metadata": {
        "id": "cTac7PyVHqV_"
      },
      "source": [
        "**Test Accuracy**"
      ]
    },
    {
      "cell_type": "markdown",
      "metadata": {
        "id": "ZqTPjBrpMgjt"
      },
      "source": [
        "Remember: <br>\n",
        "Training set is used for training <br>\n",
        "Validation set is used to tune the model's parameters, evaluating performance while adjusting the model's layers/nodes. <br>\n",
        "Test set is used to give an unbiased evaluation of the finalized model."
      ]
    },
    {
      "cell_type": "code",
      "metadata": {
        "id": "VQY5b9BONq7a"
      },
      "source": [
        ""
      ],
      "execution_count": null,
      "outputs": []
    },
    {
      "cell_type": "code",
      "metadata": {
        "id": "C-kPtgaSOEy9"
      },
      "source": [],
      "execution_count": null,
      "outputs": []
    }
  ]
}