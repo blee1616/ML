{
  "nbformat": 4,
  "nbformat_minor": 0,
  "metadata": {
    "colab": {
      "provenance": [],
      "include_colab_link": true
    },
    "kernelspec": {
      "name": "python3",
      "display_name": "Python 3"
    }
  },
  "cells": [
    {
      "cell_type": "markdown",
      "metadata": {
        "id": "view-in-github",
        "colab_type": "text"
      },
      "source": [
        "<a href=\"https://colab.research.google.com/github/blee1616/ML/blob/main/Q_Learning_Multi_Armed_Bandit_Problem.ipynb\" target=\"_parent\"><img src=\"https://colab.research.google.com/assets/colab-badge.svg\" alt=\"Open In Colab\"/></a>"
      ]
    },
    {
      "cell_type": "markdown",
      "metadata": {
        "id": "CzjngF-N-GFf"
      },
      "source": [
        "There are N different slot machines. <br>\n",
        "On a successful a pull the machine will return 5 coins, on an unsuccessfull pull you will lose 3 coin. Each slot machine has its own success rates.<br>\n",
        "Use Q-learning to find the machine with the best reward rates"
      ]
    },
    {
      "cell_type": "code",
      "metadata": {
        "id": "vJwdr8tL-DNG",
        "outputId": "3c982e66-8fc4-468b-db60-93a4a791eee3",
        "colab": {
          "base_uri": "https://localhost:8080/",
          "height": 68
        }
      },
      "source": [
        "import numpy as np\n",
        "\n",
        "n = 10\n",
        "slotmachines = np.random.uniform(0,1,n)\n",
        "exp = 0.5 #Exploration Rate\n",
        "\n",
        "\n",
        "def pull(num):\n",
        "  global slotmachines\n",
        "  if (np.random.uniform(0,1) <= slotmachines[num]):\n",
        "    return 5\n",
        "\n",
        "  return -3\n",
        "\n",
        "print(slotmachines)\n",
        "\n",
        "print(pull(1))"
      ],
      "execution_count": null,
      "outputs": [
        {
          "output_type": "stream",
          "text": [
            "[0.18428505 0.06896887 0.36309189 0.22680001 0.08186676 0.01211483\n",
            " 0.15345479 0.13441834 0.82958693 0.59818515]\n",
            "-3\n"
          ],
          "name": "stdout"
        }
      ]
    },
    {
      "cell_type": "code",
      "metadata": {
        "id": "5bHB6cIY_z_d",
        "outputId": "7d62f7a5-b124-43d6-a64f-930791c3c40e",
        "colab": {
          "base_uri": "https://localhost:8080/",
          "height": 34
        }
      },
      "source": [
        "def bandit(epochs):\n",
        "  global n, slotmachines, exp\n",
        "  Q = [0]*n\n",
        "  num_pulls = [0]*n\n",
        "  total_reward = [0]*n\n",
        "  bestArm = np.random.randint(n)\n",
        "  for i in range(epochs):\n",
        "    move = -1\n",
        "    if (np.random.uniform(0,1) >= exp):\n",
        "      move = np.random.randint(n)\n",
        "    else:\n",
        "      move = bestArm\n",
        "    total_reward[move] += pull(move)\n",
        "    num_pulls[move] += 1\n",
        "    Q[move] = float(total_reward[move])/float(num_pulls[move])\n",
        "    for i in range(n):\n",
        "      if Q[i] > Q[bestArm]:\n",
        "        bestArm = 1\n",
        "  return bestArm\n",
        "bandit(200)"
      ],
      "execution_count": null,
      "outputs": [
        {
          "output_type": "execute_result",
          "data": {
            "text/plain": [
              "1"
            ]
          },
          "metadata": {
            "tags": []
          },
          "execution_count": 14
        }
      ]
    }
  ]
}