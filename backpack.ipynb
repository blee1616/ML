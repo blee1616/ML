{
 "cells": [
  {
   "cell_type": "code",
   "execution_count": null,
   "metadata": {
    "execution": {
     "iopub.execute_input": "2025-02-14T07:21:21.401589Z",
     "iopub.status.busy": "2025-02-14T07:21:21.401257Z",
     "iopub.status.idle": "2025-02-14T07:21:21.407987Z",
     "shell.execute_reply": "2025-02-14T07:21:21.40677Z",
     "shell.execute_reply.started": "2025-02-14T07:21:21.401563Z"
    },
    "trusted": true
   },
   "outputs": [],
   "source": [
    "#libraries\n",
    "import numpy as np\n",
    "import pandas as pd\n",
    "import os\n",
    "\n",
    "from sklearn.preprocessing import OneHotEncoder\n",
    "from sklearn.impute import SimpleImputer\n",
    "from sklearn.ensemble import RandomForestRegressor\n",
    "from sklearn.metrics import mean_absolute_error, mean_squared_error\n",
    "from sklearn.model_selection import train_test_split\n",
    "\n",
    "from xgboost import XGBRegressor"
   ]
  },
  {
   "cell_type": "code",
   "execution_count": null,
   "metadata": {
    "execution": {
     "iopub.execute_input": "2025-02-14T07:21:21.40932Z",
     "iopub.status.busy": "2025-02-14T07:21:21.409045Z",
     "iopub.status.idle": "2025-02-14T07:21:21.431889Z",
     "shell.execute_reply": "2025-02-14T07:21:21.430693Z",
     "shell.execute_reply.started": "2025-02-14T07:21:21.409297Z"
    },
    "trusted": true
   },
   "outputs": [],
   "source": [
    "#data paths\n",
    "train_file_path = \"/kaggle/input/playground-series-s5e2/train.csv\"\n",
    "extra_train_file_path = \"/kaggle/input/playground-series-s5e2/training_extra.csv\"\n",
    "test_file_path = \"/kaggle/input/playground-series-s5e2/test.csv\"\n",
    "sample_submission_file_path = \"/kaggle/input/playground-series-s5e2/sample_submission.csv\""
   ]
  },
  {
   "cell_type": "code",
   "execution_count": null,
   "metadata": {
    "execution": {
     "iopub.execute_input": "2025-02-14T07:21:21.560979Z",
     "iopub.status.busy": "2025-02-14T07:21:21.560532Z",
     "iopub.status.idle": "2025-02-14T07:21:28.010032Z",
     "shell.execute_reply": "2025-02-14T07:21:28.008868Z",
     "shell.execute_reply.started": "2025-02-14T07:21:21.560949Z"
    },
    "trusted": true
   },
   "outputs": [],
   "source": [
    "#read in data\n",
    "train_df = pd.read_csv(train_file_path)\n",
    "extra_train_df = pd.read_csv(extra_train_file_path)\n",
    "test_df = pd.read_csv(test_file_path)"
   ]
  },
  {
   "cell_type": "code",
   "execution_count": null,
   "metadata": {
    "execution": {
     "iopub.execute_input": "2025-02-14T07:21:28.012069Z",
     "iopub.status.busy": "2025-02-14T07:21:28.011632Z",
     "iopub.status.idle": "2025-02-14T07:21:28.02718Z",
     "shell.execute_reply": "2025-02-14T07:21:28.025693Z",
     "shell.execute_reply.started": "2025-02-14T07:21:28.012031Z"
    },
    "trusted": true
   },
   "outputs": [],
   "source": [
    "#visualize data\n",
    "extra_train_df.head(5)\n",
    "train_df.head(5)\n",
    "train_df.info()\n",
    "train_df.shape\n",
    "extra_train_df.shape\n",
    "test_df.shape"
   ]
  },
  {
   "cell_type": "code",
   "execution_count": null,
   "metadata": {
    "execution": {
     "iopub.execute_input": "2025-02-14T07:21:38.513006Z",
     "iopub.status.busy": "2025-02-14T07:21:38.512642Z",
     "iopub.status.idle": "2025-02-14T07:21:38.519902Z",
     "shell.execute_reply": "2025-02-14T07:21:38.518304Z",
     "shell.execute_reply.started": "2025-02-14T07:21:38.512979Z"
    },
    "trusted": true
   },
   "outputs": [],
   "source": [
    "def one_hot_encoding(df: pd.DataFrame) -> pd.DataFrame:\n",
    "    \"\"\"\n",
    "    Perform one-hot encoding on categorical columns in a DataFrame.\n",
    "    \n",
    "    Args:\n",
    "        df (pd.DataFrame): Input DataFrame with categorical columns\n",
    "        \n",
    "    Returns:\n",
    "        pd.DataFrame: DataFrame with categorical columns one-hot encoded\n",
    "    \"\"\"\n",
    "    # Identify categorical columns\n",
    "    categorical_cols = df.select_dtypes(include=['object']).columns\n",
    "    if not categorical_cols.empty:\n",
    "        print(f\"Processing categorical columns:\\n{list(categorical_cols)}\")\n",
    "        \n",
    "        # Create copy to avoid modifying original data\n",
    "        df_processed = df.copy()\n",
    "        \n",
    "        # Handle missing values\n",
    "        df_processed[categorical_cols] = df_processed[categorical_cols].fillna('missing')\n",
    "        \n",
    "        # Initialize and fit encoder\n",
    "        encoder = OneHotEncoder(\n",
    "            sparse_output=False,\n",
    "            handle_unknown='ignore',\n",
    "            drop=None\n",
    "        )\n",
    "        \n",
    "        # Perform encoding\n",
    "        encoded_features = encoder.fit_transform(df_processed[categorical_cols])\n",
    "        encoded_feature_names = encoder.get_feature_names_out(categorical_cols)\n",
    "        \n",
    "        # Create DataFrame with encoded features\n",
    "        encoded_df = pd.DataFrame(\n",
    "            encoded_features,\n",
    "            columns=encoded_feature_names,\n",
    "            index=df_processed.index\n",
    "        )\n",
    "        \n",
    "        # Combine with original numeric columns\n",
    "        result_df = pd.concat(\n",
    "            [df_processed.drop(categorical_cols, axis=1), encoded_df],\n",
    "            axis=1\n",
    "        )\n",
    "        \n",
    "        # Verify data integrity\n",
    "        assert len(result_df) == len(df), \"Row count changed after encoding\"\n",
    "        return result_df\n",
    "    \n",
    "    return df  # Return original if no categorical columns"
   ]
  },
  {
   "cell_type": "code",
   "execution_count": null,
   "metadata": {
    "execution": {
     "iopub.execute_input": "2025-02-14T07:21:38.521339Z",
     "iopub.status.busy": "2025-02-14T07:21:38.520998Z",
     "iopub.status.idle": "2025-02-14T07:21:38.555507Z",
     "shell.execute_reply": "2025-02-14T07:21:38.554409Z",
     "shell.execute_reply.started": "2025-02-14T07:21:38.52131Z"
    },
    "trusted": true
   },
   "outputs": [],
   "source": [
    "def imputation(X_train, X_valid, test):\n",
    "    \"\"\"\n",
    "    Perform missing value imputation on training, validation and test datasets.\n",
    "    \n",
    "    Args:\n",
    "        X_train (pd.DataFrame): Training dataset\n",
    "        X_valid (pd.DataFrame): Validation dataset\n",
    "        test (pd.DataFrame): Test dataset\n",
    "        \n",
    "    Returns:\n",
    "        tuple: Imputed training, validation and test datasets\n",
    "    \"\"\"\n",
    "    # Initialize imputer with default strategy (mean)\n",
    "    my_imputer = SimpleImputer()\n",
    "    \n",
    "    # Fit on training data and transform all datasets\n",
    "    imputed_datasets = []\n",
    "    for dataset in [X_train, X_valid, test]:\n",
    "        if dataset is X_train:\n",
    "            # Fit and transform on training data\n",
    "            imputed = pd.DataFrame(my_imputer.fit_transform(dataset))\n",
    "        else:\n",
    "            # Only transform validation and test data\n",
    "            imputed = pd.DataFrame(my_imputer.transform(dataset))\n",
    "        \n",
    "        # Preserve original column names\n",
    "        imputed.columns = dataset.columns\n",
    "        imputed_datasets.append(imputed)\n",
    "    \n",
    "    return tuple(imputed_datasets)"
   ]
  },
  {
   "cell_type": "code",
   "execution_count": null,
   "metadata": {
    "execution": {
     "iopub.execute_input": "2025-02-14T07:21:38.556946Z",
     "iopub.status.busy": "2025-02-14T07:21:38.556544Z",
     "iopub.status.idle": "2025-02-14T07:21:39.055839Z",
     "shell.execute_reply": "2025-02-14T07:21:39.054555Z",
     "shell.execute_reply.started": "2025-02-14T07:21:38.556905Z"
    },
    "trusted": true
   },
   "outputs": [],
   "source": [
    "new_train = pd.concat([train_df, extra_train_df], axis=0, ignore_index=True)\n",
    "print(new_train.shape)\n",
    "new_train.head(5)"
   ]
  },
  {
   "cell_type": "code",
   "execution_count": null,
   "metadata": {
    "execution": {
     "iopub.execute_input": "2025-02-14T07:21:39.057352Z",
     "iopub.status.busy": "2025-02-14T07:21:39.056981Z",
     "iopub.status.idle": "2025-02-14T07:21:43.060292Z",
     "shell.execute_reply": "2025-02-14T07:21:43.0591Z",
     "shell.execute_reply.started": "2025-02-14T07:21:39.057314Z"
    },
    "trusted": true
   },
   "outputs": [],
   "source": [
    "y = new_train.Price\n",
    "X = new_train.drop(['Price'], axis=1)\n",
    "\n",
    "print(X.shape)\n",
    "print(y.shape)\n",
    "\n",
    "X_train, X_valid, y_train, y_valid = train_test_split(X, y, train_size=0.8, test_size=0.2,\n",
    "                                                      random_state=0)"
   ]
  },
  {
   "cell_type": "code",
   "execution_count": null,
   "metadata": {
    "execution": {
     "iopub.execute_input": "2025-02-14T07:21:43.099424Z",
     "iopub.status.busy": "2025-02-14T07:21:43.099051Z",
     "iopub.status.idle": "2025-02-14T07:22:06.989964Z",
     "shell.execute_reply": "2025-02-14T07:22:06.988951Z",
     "shell.execute_reply.started": "2025-02-14T07:21:43.099388Z"
    },
    "trusted": true
   },
   "outputs": [],
   "source": [
    "print(X_train.shape)\n",
    "new_X_train = one_hot_encoding(X_train)\n",
    "new_X_valid = one_hot_encoding(X_valid)\n",
    "new_test_df = one_hot_encoding(test_df)\n",
    "print(new_X_train.shape)\n",
    "\n",
    "final_X_train, final_X_valid, final_test_df = imputation(new_X_train, new_X_valid, new_test_df)"
   ]
  },
  {
   "cell_type": "code",
   "execution_count": null,
   "metadata": {
    "execution": {
     "iopub.execute_input": "2025-02-14T07:22:09.173779Z",
     "iopub.status.busy": "2025-02-14T07:22:09.173499Z",
     "iopub.status.idle": "2025-02-14T07:35:06.975278Z",
     "shell.execute_reply": "2025-02-14T07:35:06.973519Z",
     "shell.execute_reply.started": "2025-02-14T07:22:09.173756Z"
    },
    "trusted": true
   },
   "outputs": [],
   "source": [
    "model = XGBRegressor(\n",
    "    n_estimators=5000, \n",
    "    learning_rate=0.01,\n",
    "    early_stopping_rounds=100\n",
    ")\n",
    "\n",
    "model.fit(final_X_train, y_train, \n",
    "         eval_set=[(final_X_valid, y_valid)], \n",
    "         verbose=True\n",
    "    )"
   ]
  },
  {
   "cell_type": "code",
   "execution_count": null,
   "metadata": {
    "execution": {
     "iopub.execute_input": "2025-02-14T07:35:06.977101Z",
     "iopub.status.busy": "2025-02-14T07:35:06.976609Z",
     "iopub.status.idle": "2025-02-14T07:35:24.363393Z",
     "shell.execute_reply": "2025-02-14T07:35:24.36246Z",
     "shell.execute_reply.started": "2025-02-14T07:35:06.977058Z"
    },
    "trusted": true
   },
   "outputs": [],
   "source": [
    "pred = model.predict(final_X_valid)\n",
    "mae = mean_absolute_error(y_valid, pred)\n",
    "print(f\"MAE: {mae}\")"
   ]
  },
  {
   "cell_type": "code",
   "execution_count": null,
   "metadata": {
    "execution": {
     "iopub.execute_input": "2025-02-14T07:35:24.364603Z",
     "iopub.status.busy": "2025-02-14T07:35:24.364313Z",
     "iopub.status.idle": "2025-02-14T07:35:28.571441Z",
     "shell.execute_reply": "2025-02-14T07:35:28.570586Z",
     "shell.execute_reply.started": "2025-02-14T07:35:24.364577Z"
    },
    "trusted": true
   },
   "outputs": [],
   "source": [
    "final_prediction = model.predict(final_test_df)"
   ]
  }
 ],
 "metadata": {
  "kaggle": {
   "accelerator": "none",
   "dataSources": [
    {
     "databundleVersionId": 10995111,
     "sourceId": 90274,
     "sourceType": "competition"
    }
   ],
   "dockerImageVersionId": 30839,
   "isGpuEnabled": false,
   "isInternetEnabled": false,
   "language": "python",
   "sourceType": "notebook"
  },
  "kernelspec": {
   "display_name": "Python 3",
   "language": "python",
   "name": "python3"
  },
  "language_info": {
   "codemirror_mode": {
    "name": "ipython",
    "version": 3
   },
   "file_extension": ".py",
   "mimetype": "text/x-python",
   "name": "python",
   "nbconvert_exporter": "python",
   "pygments_lexer": "ipython3",
   "version": "3.10.12"
  }
 },
 "nbformat": 4,
 "nbformat_minor": 4
}
